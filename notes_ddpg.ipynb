{
 "cells": [
  {
   "cell_type": "markdown",
   "metadata": {},
   "source": [
    "[![Open In Colab](https://colab.research.google.com/assets/colab-badge.svg)](https://colab.research.google.com/github/rezer0dai/DDPG-HER/blob/mini/notes_ddpg.ipynb)"
   ]
  },
  {
   "cell_type": "code",
   "execution_count": null,
   "metadata": {
    "colab": {
     "base_uri": "https://localhost:8080/"
    },
    "id": "3M4poI6KmBxU",
    "outputId": "4b48f275-14d9-496d-9e1d-d594f7bfb018"
   },
   "outputs": [],
   "source": [
    "!git clone https://github.com/rezer0dai/DDPG-HER/ -b mini"
   ]
  },
  {
   "cell_type": "code",
   "execution_count": null,
   "metadata": {
    "colab": {
     "base_uri": "https://localhost:8080/"
    },
    "id": "DJYTd2ZKmEoY",
    "outputId": "36e57ddf-5746-48d4-e0bf-a4818a28371b"
   },
   "outputs": [],
   "source": [
    "!git clone https://github.com/qgallouedec/panda-gym\n",
    "\n",
    "!pip install -e panda-gym"
   ]
  },
  {
   "cell_type": "code",
   "execution_count": null,
   "metadata": {
    "colab": {
     "base_uri": "https://localhost:8080/"
    },
    "id": "cQUJ6zL0mIN0",
    "outputId": "917a7696-950e-493b-f863-b4c28970fcf7"
   },
   "outputs": [],
   "source": [
    "!pip install tensorboard_logger matplotlib psutil mpi4py gym"
   ]
  },
  {
   "cell_type": "code",
   "execution_count": null,
   "metadata": {
    "id": "u4rO1WzEmYc3"
   },
   "outputs": [],
   "source": [
    "import sys\n",
    "\n",
    "libs = [\"DDPG-HER\", \"panda-gym\"]\n",
    "for lib in libs:\n",
    "    sys.path.append(lib)\n",
    "    sys.path.append(\"/content/\"+lib)"
   ]
  },
  {
   "cell_type": "code",
   "execution_count": null,
   "metadata": {
    "id": "cXw-z2u3mjhJ"
   },
   "outputs": [],
   "source": [
    "import main"
   ]
  },
  {
   "cell_type": "code",
   "execution_count": null,
   "metadata": {
    "id": "DFdnbp8dqNCe",
    "scrolled": true
   },
   "outputs": [],
   "source": [
    "import open_gym\n",
    "env = open_gym.make_env(render=False, colab=True, env_name=\"panda-pusher\")"
   ]
  },
  {
   "cell_type": "code",
   "execution_count": null,
   "metadata": {
    "id": "k0D1dZ6BqwKd"
   },
   "outputs": [],
   "source": [
    "agent = main.train(env, env)"
   ]
  },
  {
   "cell_type": "code",
   "execution_count": null,
   "metadata": {
    "id": "HoYROjMyq2vU"
   },
   "outputs": [],
   "source": [
    "[ main.eval_agent(env, agent) for _ in range(100) ]"
   ]
  },
  {
   "cell_type": "code",
   "execution_count": null,
   "metadata": {
    "id": "Euh9exoHrIYH"
   },
   "outputs": [],
   "source": []
  }
 ],
 "metadata": {
  "colab": {
   "name": "Untitled0.ipynb",
   "provenance": []
  },
  "kernelspec": {
   "display_name": "Python 3",
   "language": "python",
   "name": "python3"
  },
  "language_info": {
   "codemirror_mode": {
    "name": "ipython",
    "version": 3
   },
   "file_extension": ".py",
   "mimetype": "text/x-python",
   "name": "python",
   "nbconvert_exporter": "python",
   "pygments_lexer": "ipython3",
   "version": "3.8.10"
  }
 },
 "nbformat": 4,
 "nbformat_minor": 1
}
